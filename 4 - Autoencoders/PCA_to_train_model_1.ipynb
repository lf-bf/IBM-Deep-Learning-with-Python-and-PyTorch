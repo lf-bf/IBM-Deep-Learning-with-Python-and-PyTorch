{
 "cells": [
  {
   "cell_type": "markdown",
   "metadata": {},
   "source": [
    "<img src=\"https://s3-api.us-geo.objectstorage.softlayer.net/cf-courses-data/CognitiveClass/DL0110EN/notebook_images%20/cc-logo-square.png\" width=\"200\" alt=\"cognitiveclass.ai logo\" />\n"
   ]
  },
  {
   "cell_type": "markdown",
   "metadata": {},
   "source": [
    "<h1>Preprocessing with Principle Component Analysis </h1>"
   ]
  },
  {
   "cell_type": "markdown",
   "metadata": {},
   "source": [
    "<h2>Table of Contents</h2>\n",
    "<p>This notebook contains neural networks trained to predict house prices in King County, Washington, USA based on features of the house. They are trained using different preprocessing methods like PCA and Standardization. They are also trained using different Neural Networks with one featuring batch normalization. We will explore the benefits of data preprocessing on our neural networks and how they affect performance.</p>\n",
    "\n",
    "<ul>\n",
    "    <li><a href=\"#UFI\">Utility Functions and Imports </a></li>\n",
    "    <li><a href=\"#MDC\">Dataset Class   </a></li>\n",
    "    <li><a href=\"#DNN\"> Different Neural Networks and Function to Train Neural Network   </a></li>\n",
    "    <li><a href=\"#tv\">Training and Validate Model </a></li>\n",
    "</ul>\n",
    "\n",
    "<p>Estimated Time Needed: <strong>20 min</strong></p>\n",
    "\n",
    "<hr>\n"
   ]
  },
  {
   "cell_type": "markdown",
   "metadata": {},
   "source": [
    "<h2 id=\"UFI\">Utility Functions and Imports </h2>"
   ]
  },
  {
   "cell_type": "code",
   "execution_count": 1,
   "metadata": {
    "tags": []
   },
   "outputs": [
    {
     "name": "stderr",
     "output_type": "stream",
     "text": [
      "/home/jupyterlab/conda/envs/python/lib/python3.7/site-packages/sklearn/utils/validation.py:37: DeprecationWarning: distutils Version classes are deprecated. Use packaging.version instead.\n",
      "  LARGE_SPARSE_SUPPORTED = LooseVersion(scipy_version) >= '0.14.0'\n",
      "/home/jupyterlab/conda/envs/python/lib/python3.7/site-packages/sklearn/linear_model/least_angle.py:35: DeprecationWarning: `np.float` is a deprecated alias for the builtin `float`. To silence this warning, use `float` by itself. Doing this will not modify any behavior and is safe. If you specifically wanted the numpy scalar type, use `np.float64` here.\n",
      "Deprecated in NumPy 1.20; for more details and guidance: https://numpy.org/devdocs/release/1.20.0-notes.html#deprecations\n",
      "  eps=np.finfo(np.float).eps,\n",
      "/home/jupyterlab/conda/envs/python/lib/python3.7/site-packages/sklearn/linear_model/least_angle.py:597: DeprecationWarning: `np.float` is a deprecated alias for the builtin `float`. To silence this warning, use `float` by itself. Doing this will not modify any behavior and is safe. If you specifically wanted the numpy scalar type, use `np.float64` here.\n",
      "Deprecated in NumPy 1.20; for more details and guidance: https://numpy.org/devdocs/release/1.20.0-notes.html#deprecations\n",
      "  eps=np.finfo(np.float).eps, copy_X=True, fit_path=True,\n",
      "/home/jupyterlab/conda/envs/python/lib/python3.7/site-packages/sklearn/linear_model/least_angle.py:836: DeprecationWarning: `np.float` is a deprecated alias for the builtin `float`. To silence this warning, use `float` by itself. Doing this will not modify any behavior and is safe. If you specifically wanted the numpy scalar type, use `np.float64` here.\n",
      "Deprecated in NumPy 1.20; for more details and guidance: https://numpy.org/devdocs/release/1.20.0-notes.html#deprecations\n",
      "  eps=np.finfo(np.float).eps, copy_X=True, fit_path=True,\n",
      "/home/jupyterlab/conda/envs/python/lib/python3.7/site-packages/sklearn/linear_model/least_angle.py:862: DeprecationWarning: `np.float` is a deprecated alias for the builtin `float`. To silence this warning, use `float` by itself. Doing this will not modify any behavior and is safe. If you specifically wanted the numpy scalar type, use `np.float64` here.\n",
      "Deprecated in NumPy 1.20; for more details and guidance: https://numpy.org/devdocs/release/1.20.0-notes.html#deprecations\n",
      "  eps=np.finfo(np.float).eps, positive=False):\n",
      "/home/jupyterlab/conda/envs/python/lib/python3.7/site-packages/sklearn/linear_model/least_angle.py:1097: DeprecationWarning: `np.float` is a deprecated alias for the builtin `float`. To silence this warning, use `float` by itself. Doing this will not modify any behavior and is safe. If you specifically wanted the numpy scalar type, use `np.float64` here.\n",
      "Deprecated in NumPy 1.20; for more details and guidance: https://numpy.org/devdocs/release/1.20.0-notes.html#deprecations\n",
      "  max_n_alphas=1000, n_jobs=None, eps=np.finfo(np.float).eps,\n",
      "/home/jupyterlab/conda/envs/python/lib/python3.7/site-packages/sklearn/linear_model/least_angle.py:1344: DeprecationWarning: `np.float` is a deprecated alias for the builtin `float`. To silence this warning, use `float` by itself. Doing this will not modify any behavior and is safe. If you specifically wanted the numpy scalar type, use `np.float64` here.\n",
      "Deprecated in NumPy 1.20; for more details and guidance: https://numpy.org/devdocs/release/1.20.0-notes.html#deprecations\n",
      "  max_n_alphas=1000, n_jobs=None, eps=np.finfo(np.float).eps,\n",
      "/home/jupyterlab/conda/envs/python/lib/python3.7/site-packages/sklearn/linear_model/least_angle.py:1480: DeprecationWarning: `np.float` is a deprecated alias for the builtin `float`. To silence this warning, use `float` by itself. Doing this will not modify any behavior and is safe. If you specifically wanted the numpy scalar type, use `np.float64` here.\n",
      "Deprecated in NumPy 1.20; for more details and guidance: https://numpy.org/devdocs/release/1.20.0-notes.html#deprecations\n",
      "  eps=np.finfo(np.float).eps, copy_X=True, positive=False):\n",
      "/home/jupyterlab/conda/envs/python/lib/python3.7/site-packages/sklearn/linear_model/randomized_l1.py:152: DeprecationWarning: `np.float` is a deprecated alias for the builtin `float`. To silence this warning, use `float` by itself. Doing this will not modify any behavior and is safe. If you specifically wanted the numpy scalar type, use `np.float64` here.\n",
      "Deprecated in NumPy 1.20; for more details and guidance: https://numpy.org/devdocs/release/1.20.0-notes.html#deprecations\n",
      "  precompute=False, eps=np.finfo(np.float).eps,\n",
      "/home/jupyterlab/conda/envs/python/lib/python3.7/site-packages/sklearn/linear_model/randomized_l1.py:320: DeprecationWarning: `np.float` is a deprecated alias for the builtin `float`. To silence this warning, use `float` by itself. Doing this will not modify any behavior and is safe. If you specifically wanted the numpy scalar type, use `np.float64` here.\n",
      "Deprecated in NumPy 1.20; for more details and guidance: https://numpy.org/devdocs/release/1.20.0-notes.html#deprecations\n",
      "  eps=np.finfo(np.float).eps, random_state=None,\n",
      "/home/jupyterlab/conda/envs/python/lib/python3.7/site-packages/sklearn/linear_model/randomized_l1.py:580: DeprecationWarning: `np.float` is a deprecated alias for the builtin `float`. To silence this warning, use `float` by itself. Doing this will not modify any behavior and is safe. If you specifically wanted the numpy scalar type, use `np.float64` here.\n",
      "Deprecated in NumPy 1.20; for more details and guidance: https://numpy.org/devdocs/release/1.20.0-notes.html#deprecations\n",
      "  eps=4 * np.finfo(np.float).eps, n_jobs=None,\n",
      "/home/jupyterlab/conda/envs/python/lib/python3.7/site-packages/sklearn/decomposition/online_lda.py:31: DeprecationWarning: `np.float` is a deprecated alias for the builtin `float`. To silence this warning, use `float` by itself. Doing this will not modify any behavior and is safe. If you specifically wanted the numpy scalar type, use `np.float64` here.\n",
      "Deprecated in NumPy 1.20; for more details and guidance: https://numpy.org/devdocs/release/1.20.0-notes.html#deprecations\n",
      "  EPS = np.finfo(np.float).eps\n"
     ]
    }
   ],
   "source": [
    "import pandas as pd\n",
    "import numpy as np\n",
    "import torch\n",
    "from sklearn import preprocessing\n",
    "from sklearn.decomposition import PCA\n",
    "from torch.utils.data import Dataset\n",
    "import torch.nn as nn\n",
    "import torchvision.transforms as transforms\n",
    "import torchvision.datasets as dsets\n",
    "import torch.nn.functional as F\n",
    "import matplotlib.pylab as plt\n",
    "torch.manual_seed(1)\n",
    "np.random.seed(1)\n",
    "torch.backends.cudnn.deterministic = True\n",
    "torch.backends.cudnn.benchmark = False\n",
    "from sklearn.model_selection import train_test_split\n",
    "from sklearn import preprocessing"
   ]
  },
  {
   "cell_type": "markdown",
   "metadata": {},
   "source": [
    "Here we load the dataset we will use and the already trained models to save time instead of training from scratch."
   ]
  },
  {
   "cell_type": "code",
   "execution_count": 2,
   "metadata": {
    "tags": []
   },
   "outputs": [
    {
     "name": "stdout",
     "output_type": "stream",
     "text": [
      "--2024-02-10 00:11:31--  https://s3.us.cloud-object-storage.appdomain.cloud/cf-courses-data/CognitiveClass/meet_up/12.02.2020/king_county_house_data.csv\n",
      "Resolving s3.us.cloud-object-storage.appdomain.cloud (s3.us.cloud-object-storage.appdomain.cloud)... 169.63.118.104, 169.63.118.104\n",
      "Connecting to s3.us.cloud-object-storage.appdomain.cloud (s3.us.cloud-object-storage.appdomain.cloud)|169.63.118.104|:443... connected.\n",
      "HTTP request sent, awaiting response... 200 OK\n",
      "Length: 1930704 (1.8M) [text/csv]\n",
      "Saving to: ‘king_county_house_data.csv.1’\n",
      "\n",
      "king_county_house_d 100%[===================>]   1.84M  --.-KB/s    in 0.04s   \n",
      "\n",
      "2024-02-10 00:11:31 (47.2 MB/s) - ‘king_county_house_data.csv.1’ saved [1930704/1930704]\n",
      "\n",
      "--2024-02-10 00:11:32--  https://s3.us.cloud-object-storage.appdomain.cloud/cf-courses-data/CognitiveClass/meet_up/12.02.2020/pca_model.pt\n",
      "Resolving s3.us.cloud-object-storage.appdomain.cloud (s3.us.cloud-object-storage.appdomain.cloud)... 169.63.118.104, 169.63.118.104\n",
      "Connecting to s3.us.cloud-object-storage.appdomain.cloud (s3.us.cloud-object-storage.appdomain.cloud)|169.63.118.104|:443... connected.\n",
      "HTTP request sent, awaiting response... 200 OK\n",
      "Length: 5088 (5.0K) [application/octet-stream]\n",
      "Saving to: ‘pca_model.pt.1’\n",
      "\n",
      "pca_model.pt.1      100%[===================>]   4.97K  --.-KB/s    in 0s      \n",
      "\n",
      "2024-02-10 00:11:32 (26.9 MB/s) - ‘pca_model.pt.1’ saved [5088/5088]\n",
      "\n",
      "--2024-02-10 00:11:32--  https://s3.us.cloud-object-storage.appdomain.cloud/cf-courses-data/CognitiveClass/meet_up/12.02.2020/regular_model.pt\n",
      "Resolving s3.us.cloud-object-storage.appdomain.cloud (s3.us.cloud-object-storage.appdomain.cloud)... 169.63.118.104, 169.63.118.104\n",
      "Connecting to s3.us.cloud-object-storage.appdomain.cloud (s3.us.cloud-object-storage.appdomain.cloud)|169.63.118.104|:443... connected.\n",
      "HTTP request sent, awaiting response... 200 OK\n",
      "Length: 11511 (11K) [application/octet-stream]\n",
      "Saving to: ‘regular_model.pt.1’\n",
      "\n",
      "regular_model.pt.1  100%[===================>]  11.24K  --.-KB/s    in 0s      \n",
      "\n",
      "2024-02-10 00:11:33 (24.6 MB/s) - ‘regular_model.pt.1’ saved [11511/11511]\n",
      "\n",
      "--2024-02-10 00:11:33--  https://s3.us.cloud-object-storage.appdomain.cloud/cf-courses-data/CognitiveClass/meet_up/12.02.2020/standardized_model.pt\n",
      "Resolving s3.us.cloud-object-storage.appdomain.cloud (s3.us.cloud-object-storage.appdomain.cloud)... 169.63.118.104, 169.63.118.104\n",
      "Connecting to s3.us.cloud-object-storage.appdomain.cloud (s3.us.cloud-object-storage.appdomain.cloud)|169.63.118.104|:443... connected.\n",
      "HTTP request sent, awaiting response... 200 OK\n",
      "Length: 8507 (8.3K) [application/octet-stream]\n",
      "Saving to: ‘standardized_model.pt.1’\n",
      "\n",
      "standardized_model. 100%[===================>]   8.31K  --.-KB/s    in 0s      \n",
      "\n",
      "2024-02-10 00:11:33 (24.1 MB/s) - ‘standardized_model.pt.1’ saved [8507/8507]\n",
      "\n"
     ]
    }
   ],
   "source": [
    "!wget https://s3.us.cloud-object-storage.appdomain.cloud/cf-courses-data/CognitiveClass/meet_up/12.02.2020/king_county_house_data.csv\n",
    "!wget https://s3.us.cloud-object-storage.appdomain.cloud/cf-courses-data/CognitiveClass/meet_up/12.02.2020/pca_model.pt\n",
    "!wget https://s3.us.cloud-object-storage.appdomain.cloud/cf-courses-data/CognitiveClass/meet_up/12.02.2020/regular_model.pt\n",
    "!wget https://s3.us.cloud-object-storage.appdomain.cloud/cf-courses-data/CognitiveClass/meet_up/12.02.2020/standardized_model.pt"
   ]
  },
  {
   "cell_type": "markdown",
   "metadata": {},
   "source": [
    "<h2 id=\"DSC\">Dataset Class </h2>"
   ]
  },
  {
   "cell_type": "markdown",
   "metadata": {},
   "source": [
    "Turn the csv into a dataframe"
   ]
  },
  {
   "cell_type": "code",
   "execution_count": 3,
   "metadata": {
    "tags": []
   },
   "outputs": [
    {
     "name": "stdout",
     "output_type": "stream",
     "text": [
      "(21613, 19)\n"
     ]
    },
    {
     "data": {
      "text/html": [
       "<div>\n",
       "<style scoped>\n",
       "    .dataframe tbody tr th:only-of-type {\n",
       "        vertical-align: middle;\n",
       "    }\n",
       "\n",
       "    .dataframe tbody tr th {\n",
       "        vertical-align: top;\n",
       "    }\n",
       "\n",
       "    .dataframe thead th {\n",
       "        text-align: right;\n",
       "    }\n",
       "</style>\n",
       "<table border=\"1\" class=\"dataframe\">\n",
       "  <thead>\n",
       "    <tr style=\"text-align: right;\">\n",
       "      <th></th>\n",
       "      <th>price</th>\n",
       "      <th>bedrooms</th>\n",
       "      <th>bathrooms</th>\n",
       "      <th>sqft_living</th>\n",
       "      <th>sqft_lot</th>\n",
       "      <th>floors</th>\n",
       "      <th>waterfront</th>\n",
       "      <th>view</th>\n",
       "      <th>condition</th>\n",
       "      <th>grade</th>\n",
       "      <th>sqft_above</th>\n",
       "      <th>sqft_basement</th>\n",
       "      <th>yr_built</th>\n",
       "      <th>yr_renovated</th>\n",
       "      <th>zipcode</th>\n",
       "      <th>lat</th>\n",
       "      <th>long</th>\n",
       "      <th>sqft_living15</th>\n",
       "      <th>sqft_lot15</th>\n",
       "    </tr>\n",
       "  </thead>\n",
       "  <tbody>\n",
       "    <tr>\n",
       "      <th>0</th>\n",
       "      <td>221900.0</td>\n",
       "      <td>3</td>\n",
       "      <td>1.00</td>\n",
       "      <td>1180</td>\n",
       "      <td>5650</td>\n",
       "      <td>1.0</td>\n",
       "      <td>0</td>\n",
       "      <td>0</td>\n",
       "      <td>3</td>\n",
       "      <td>7</td>\n",
       "      <td>1180</td>\n",
       "      <td>0</td>\n",
       "      <td>1955</td>\n",
       "      <td>0</td>\n",
       "      <td>98178</td>\n",
       "      <td>47.5112</td>\n",
       "      <td>-122.257</td>\n",
       "      <td>1340</td>\n",
       "      <td>5650</td>\n",
       "    </tr>\n",
       "    <tr>\n",
       "      <th>1</th>\n",
       "      <td>538000.0</td>\n",
       "      <td>3</td>\n",
       "      <td>2.25</td>\n",
       "      <td>2570</td>\n",
       "      <td>7242</td>\n",
       "      <td>2.0</td>\n",
       "      <td>0</td>\n",
       "      <td>0</td>\n",
       "      <td>3</td>\n",
       "      <td>7</td>\n",
       "      <td>2170</td>\n",
       "      <td>400</td>\n",
       "      <td>1951</td>\n",
       "      <td>1991</td>\n",
       "      <td>98125</td>\n",
       "      <td>47.7210</td>\n",
       "      <td>-122.319</td>\n",
       "      <td>1690</td>\n",
       "      <td>7639</td>\n",
       "    </tr>\n",
       "    <tr>\n",
       "      <th>2</th>\n",
       "      <td>180000.0</td>\n",
       "      <td>2</td>\n",
       "      <td>1.00</td>\n",
       "      <td>770</td>\n",
       "      <td>10000</td>\n",
       "      <td>1.0</td>\n",
       "      <td>0</td>\n",
       "      <td>0</td>\n",
       "      <td>3</td>\n",
       "      <td>6</td>\n",
       "      <td>770</td>\n",
       "      <td>0</td>\n",
       "      <td>1933</td>\n",
       "      <td>0</td>\n",
       "      <td>98028</td>\n",
       "      <td>47.7379</td>\n",
       "      <td>-122.233</td>\n",
       "      <td>2720</td>\n",
       "      <td>8062</td>\n",
       "    </tr>\n",
       "    <tr>\n",
       "      <th>3</th>\n",
       "      <td>604000.0</td>\n",
       "      <td>4</td>\n",
       "      <td>3.00</td>\n",
       "      <td>1960</td>\n",
       "      <td>5000</td>\n",
       "      <td>1.0</td>\n",
       "      <td>0</td>\n",
       "      <td>0</td>\n",
       "      <td>5</td>\n",
       "      <td>7</td>\n",
       "      <td>1050</td>\n",
       "      <td>910</td>\n",
       "      <td>1965</td>\n",
       "      <td>0</td>\n",
       "      <td>98136</td>\n",
       "      <td>47.5208</td>\n",
       "      <td>-122.393</td>\n",
       "      <td>1360</td>\n",
       "      <td>5000</td>\n",
       "    </tr>\n",
       "    <tr>\n",
       "      <th>4</th>\n",
       "      <td>510000.0</td>\n",
       "      <td>3</td>\n",
       "      <td>2.00</td>\n",
       "      <td>1680</td>\n",
       "      <td>8080</td>\n",
       "      <td>1.0</td>\n",
       "      <td>0</td>\n",
       "      <td>0</td>\n",
       "      <td>3</td>\n",
       "      <td>8</td>\n",
       "      <td>1680</td>\n",
       "      <td>0</td>\n",
       "      <td>1987</td>\n",
       "      <td>0</td>\n",
       "      <td>98074</td>\n",
       "      <td>47.6168</td>\n",
       "      <td>-122.045</td>\n",
       "      <td>1800</td>\n",
       "      <td>7503</td>\n",
       "    </tr>\n",
       "  </tbody>\n",
       "</table>\n",
       "</div>"
      ],
      "text/plain": [
       "      price  bedrooms  bathrooms  sqft_living  sqft_lot  floors  waterfront  \\\n",
       "0  221900.0         3       1.00         1180      5650     1.0           0   \n",
       "1  538000.0         3       2.25         2570      7242     2.0           0   \n",
       "2  180000.0         2       1.00          770     10000     1.0           0   \n",
       "3  604000.0         4       3.00         1960      5000     1.0           0   \n",
       "4  510000.0         3       2.00         1680      8080     1.0           0   \n",
       "\n",
       "   view  condition  grade  sqft_above  sqft_basement  yr_built  yr_renovated  \\\n",
       "0     0          3      7        1180              0      1955             0   \n",
       "1     0          3      7        2170            400      1951          1991   \n",
       "2     0          3      6         770              0      1933             0   \n",
       "3     0          5      7        1050            910      1965             0   \n",
       "4     0          3      8        1680              0      1987             0   \n",
       "\n",
       "   zipcode      lat     long  sqft_living15  sqft_lot15  \n",
       "0    98178  47.5112 -122.257           1340        5650  \n",
       "1    98125  47.7210 -122.319           1690        7639  \n",
       "2    98028  47.7379 -122.233           2720        8062  \n",
       "3    98136  47.5208 -122.393           1360        5000  \n",
       "4    98074  47.6168 -122.045           1800        7503  "
      ]
     },
     "execution_count": 3,
     "metadata": {},
     "output_type": "execute_result"
    }
   ],
   "source": [
    "df = pd.read_csv('king_county_house_data.csv')\n",
    "print(df.shape)\n",
    "df.head()"
   ]
  },
  {
   "cell_type": "markdown",
   "metadata": {},
   "source": [
    "Create a PyTorch Dataset object to store our dataframe values in. We create 3 type of data one for data with PCA, Standardization, and regular data with no preprocessing."
   ]
  },
  {
   "cell_type": "code",
   "execution_count": 4,
   "metadata": {
    "tags": []
   },
   "outputs": [],
   "source": [
    "class data(Dataset):\n",
    "    \n",
    "    def __init__(self, test=False, regular=False, pca=False, standard=False):\n",
    "        \n",
    "        X = df.drop(columns='price')\n",
    "        Y = df['price']\n",
    "        # Split the data into training data and testing data using a 80/20 split\n",
    "        x_train, x_test, y_train, y_test = train_test_split(X, Y, test_size=.2, random_state=1)\n",
    "        \n",
    "        x_train = x_train.astype(float)\n",
    "        x_test = x_test.astype(float)\n",
    "        \n",
    "        if (regular):\n",
    "            \n",
    "            if (test):\n",
    "                self.x = torch.FloatTensor(x_test.values)\n",
    "                self.y = torch.FloatTensor(y_test.values).view(-1,1)\n",
    "            else:\n",
    "                self.x = torch.FloatTensor(x_train.values)\n",
    "                self.y = torch.FloatTensor(y_train.values).view(-1,1)\n",
    "                \n",
    "        elif (pca):\n",
    "            \n",
    "            # Performs PCA on the data\n",
    "            pca = PCA(whiten=True)\n",
    "            x_train = pca.fit_transform(x_train)\n",
    "            x_test = pca.transform(x_test)\n",
    "            \n",
    "            if (test):\n",
    "                self.x = torch.FloatTensor(x_test)\n",
    "                self.y = torch.FloatTensor(y_test.values).view(-1,1)\n",
    "            else:\n",
    "                self.x = torch.FloatTensor(x_train)\n",
    "                self.y = torch.FloatTensor(y_train.values).view(-1,1)\n",
    "                \n",
    "        else:\n",
    "            \n",
    "            # Performs Standardization on the data\n",
    "            standard = preprocessing.StandardScaler()\n",
    "            x_train = standard.fit_transform(x_train)\n",
    "            x_test = standard.transform(x_test)\n",
    "            \n",
    "            if (test):\n",
    "                self.x = torch.FloatTensor(x_test)\n",
    "                self.y = torch.FloatTensor(y_test.values).view(-1,1)\n",
    "            else:\n",
    "                self.x = torch.FloatTensor(x_train)\n",
    "                self.y = torch.FloatTensor(y_train.values).view(-1,1)\n",
    "\n",
    "    # Getter\n",
    "    def __getitem__(self, index):\n",
    "        return self.x[index], self.y[index]\n",
    "    \n",
    "    def __len__(self):\n",
    "        return len(self.x)"
   ]
  },
  {
   "cell_type": "markdown",
   "metadata": {},
   "source": [
    "<h2 id=\"DNN\">Different Neural Networks and Function to Train Neural Network    </h2>"
   ]
  },
  {
   "cell_type": "markdown",
   "metadata": {},
   "source": [
    "Here we define the Neural Networks we will use. They are both 4 layered networks with 1 input layer, 1 output layer, and 2 hidden layers. THe number of nodes in each layer is 2/3 of the input layer except the output because we are doing regression. They both use relu as the activation function.\n",
    "\n",
    "The difference is that one uses Batch Normalization and one does not."
   ]
  },
  {
   "cell_type": "code",
   "execution_count": 5,
   "metadata": {
    "tags": []
   },
   "outputs": [],
   "source": [
    "class BatchNormalizationNN(nn.Module):\n",
    "    \n",
    "    # Constructor\n",
    "    def __init__(self):\n",
    "        super(BatchNormalizationNN, self).__init__()\n",
    "        # The dataset has 18 features\n",
    "        self.linear1 = nn.Linear(18, 12)\n",
    "        self.b1 = nn.BatchNorm1d(12)\n",
    "        self.linear2 = nn.Linear(12, 8)\n",
    "        self.b2 = nn.BatchNorm1d(8)\n",
    "        self.linear3 = nn.Linear(8, 1)\n",
    "\n",
    "    # Prediction    \n",
    "    def forward(self, x): \n",
    "        y = self.b1(torch.relu(self.linear1(x)))\n",
    "        y = self.b2(torch.relu(self.linear2(y)))\n",
    "        y = self.linear3(y)\n",
    "        return y"
   ]
  },
  {
   "cell_type": "code",
   "execution_count": 6,
   "metadata": {
    "tags": []
   },
   "outputs": [],
   "source": [
    "class RegularNN(nn.Module):\n",
    "    \n",
    "    # Constructor\n",
    "    def __init__(self):\n",
    "        super(RegularNN, self).__init__()\n",
    "        # The dataset has 18 features\n",
    "        self.linear1 = nn.Linear(18, 12)\n",
    "        self.linear2 = nn.Linear(12, 8)\n",
    "        self.linear3 = nn.Linear(8, 1)\n",
    "\n",
    "    # Prediction    \n",
    "    def forward(self, x): \n",
    "        y = torch.relu(self.linear1(x)) \n",
    "        y = torch.relu(self.linear2(y))\n",
    "        y = self.linear3(y)\n",
    "        return y"
   ]
  },
  {
   "cell_type": "markdown",
   "metadata": {},
   "source": [
    "Function performs the training of the models. It is given the training data, testing data, criterion (loss function), model(Neural Network), optimizer, and epochs (Number of times the model is trained on the entire dataset). "
   ]
  },
  {
   "cell_type": "code",
   "execution_count": 7,
   "metadata": {
    "tags": []
   },
   "outputs": [],
   "source": [
    "def train(train_loader, test_loader, criterion, model, optimizer, epochs):\n",
    "    \n",
    "    train_loss = []\n",
    "    test_loss = []\n",
    "    \n",
    "    for epoch in range(epochs):\n",
    "        \n",
    "        print(epoch)\n",
    "        \n",
    "        total_loss = 0\n",
    "        \n",
    "        for i, (x, y) in enumerate(train_loader):\n",
    "            # Set the model in training mode so it updates values in Batch Normalization\n",
    "            model.train()\n",
    "            # Clears the optimizer\n",
    "            optimizer.zero_grad()\n",
    "            # Calculates the prediction the model gives\n",
    "            z = model(x)\n",
    "            # Calculates the loss between the prediction and the actual value\n",
    "            loss = criterion(z, y)\n",
    "            # Calcualates the partial deriviative for each parameter of the Neural Network\n",
    "            loss.backward()\n",
    "            # Adjusts the parameters according to the optimizer\n",
    "            optimizer.step()\n",
    "            total_loss = total_loss + loss.item()\n",
    "        \n",
    "        train_loss.append(total_loss/(len(train_loader.dataset)/train_loader.batch_size))\n",
    "        print(total_loss/(len(train_loader.dataset)/train_loader.batch_size))\n",
    "        \n",
    "        total_loss = 0\n",
    "        \n",
    "        for i, (x, y) in enumerate(test_loader):\n",
    "            # Set the model in evaluation mode so we do not train the Batch Normalization while evaluating our model\n",
    "            model.eval()\n",
    "            z = model(x)\n",
    "            loss = criterion(z, y)\n",
    "            total_loss = total_loss + loss.item()\n",
    "           \n",
    "        test_loss.append(total_loss/len(test_loader.dataset))\n",
    "        print(total_loss/len(test_loader.dataset))\n",
    "        \n",
    "    return train_loss, test_loss"
   ]
  },
  {
   "cell_type": "markdown",
   "metadata": {},
   "source": [
    "<h2 id=\"UFI\">Training and Validate Model  </h2>"
   ]
  },
  {
   "cell_type": "markdown",
   "metadata": {},
   "source": [
    "We have trained the model prior you can load them and use them to run you model."
   ]
  },
  {
   "cell_type": "markdown",
   "metadata": {},
   "source": [
    "Vanilla Neural network "
   ]
  },
  {
   "cell_type": "code",
   "execution_count": 8,
   "metadata": {
    "tags": []
   },
   "outputs": [],
   "source": [
    "RegularModel = RegularNN()\n",
    "checkpoint = torch.load('regular_model.pt')\n",
    "RegularModel.load_state_dict(checkpoint['model_state_dict'])\n",
    "RegularModel.eval()\n",
    "regular_train_loss = checkpoint['train_loss']\n",
    "regular_test_loss = checkpoint['test_loss']"
   ]
  },
  {
   "cell_type": "markdown",
   "metadata": {},
   "source": [
    "Neural network with Batch Norm  "
   ]
  },
  {
   "cell_type": "code",
   "execution_count": 9,
   "metadata": {
    "tags": []
   },
   "outputs": [],
   "source": [
    "PCAModel = BatchNormalizationNN()\n",
    "checkpoint = torch.load('pca_model.pt')\n",
    "PCAModel.load_state_dict(checkpoint['model_state_dict'])\n",
    "PCAModel.eval()\n",
    "pca_train_loss = checkpoint['train_loss']\n",
    "pca_test_loss = checkpoint['test_loss']"
   ]
  },
  {
   "cell_type": "markdown",
   "metadata": {},
   "source": [
    "Neural network with Batch Norm  and Starderdizing the data :"
   ]
  },
  {
   "cell_type": "code",
   "execution_count": 10,
   "metadata": {
    "tags": []
   },
   "outputs": [],
   "source": [
    "StandardModel = BatchNormalizationNN()\n",
    "checkpoint = torch.load('standardized_model.pt')\n",
    "StandardModel.load_state_dict(checkpoint['model_state_dict'])\n",
    "StandardModel.eval()\n",
    "stan_train_loss = checkpoint['train_loss']\n",
    "stan_test_loss = checkpoint['test_loss']"
   ]
  },
  {
   "cell_type": "markdown",
   "metadata": {},
   "source": [
    "## Training"
   ]
  },
  {
   "cell_type": "markdown",
   "metadata": {},
   "source": [
    "The code in the sections below is code to train the models with each type of preprocessing. The training code is saved a raw so it does not accidentally get run as it would take a lot of time to train. The loss function used is SmoothL1Loss and in its current setup it gives the absolute value of the error between the prediction and actual value. The optimizer used is Adadelta, we use this because we do not need to worry about initializing or updating the rate at which the Neural Network learns. If you would like to experiment with the Neural Networks please change the type of the training block to code using the options at the top. "
   ]
  },
  {
   "cell_type": "markdown",
   "metadata": {},
   "source": [
    "## Regular Neural Network       "
   ]
  },
  {
   "cell_type": "markdown",
   "metadata": {},
   "source": [
    "If you would like to train the model yourself. you can convert the following markdown cell to a code.   "
   ]
  },
  {
   "cell_type": "code",
   "execution_count": 11,
   "metadata": {
    "tags": []
   },
   "outputs": [
    {
     "name": "stdout",
     "output_type": "stream",
     "text": [
      "0\n",
      "440361.35546197224\n",
      "228389.0386016655\n",
      "1\n",
      "214756.96256868134\n",
      "217870.31770471894\n",
      "2\n",
      "206672.23241396763\n",
      "208479.27470795743\n",
      "3\n",
      "194702.93341526896\n",
      "192779.41702810547\n",
      "4\n",
      "177716.8888266339\n",
      "177360.15143563497\n",
      "5\n",
      "166632.06062030076\n",
      "170724.5618602533\n",
      "6\n",
      "162829.15386422788\n",
      "169078.74683379597\n",
      "7\n",
      "161268.500578369\n",
      "167200.07010105829\n",
      "8\n",
      "160725.45591743782\n",
      "166718.40557049503\n",
      "9\n",
      "160227.36634253906\n",
      "166311.99363867685\n"
     ]
    }
   ],
   "source": [
    "d_train = data(regular=True, test=False) \n",
    "train_loader = torch.utils.data.DataLoader(dataset=d_train, batch_size=500)\n",
    "d_test = data(regular=True, test=True)\n",
    "test_loader = torch.utils.data.DataLoader(dataset=d_test)\n",
    "criterion = nn.SmoothL1Loss()\n",
    "RegularModel = RegularNN()\n",
    "optimizer = torch.optim.Adadelta(RegularModel.parameters())\n",
    "regular_train_loss, regular_test_loss = train(train_loader, test_loader, criterion, RegularModel, optimizer, 10)"
   ]
  },
  {
   "cell_type": "raw",
   "metadata": {},
   "source": [
    "d_train = data(regular=True, test=False)\n",
    "train_loader = torch.utils.data.DataLoader(dataset=d_train, batch_size=500)\n",
    "d_test = data(regular=True, test=True)\n",
    "test_loader = torch.utils.data.DataLoader(dataset=d_test)\n",
    "criterion = nn.SmoothL1Loss()\n",
    "RegularModel = RegularNN()\n",
    "optimizer = torch.optim.Adadelta(RegularModel.parameters())\n",
    "regular_train_loss, regular_test_loss = train(train_loader, test_loader, criterion, RegularModel, optimizer, 10)"
   ]
  },
  {
   "cell_type": "code",
   "execution_count": 12,
   "metadata": {
    "tags": []
   },
   "outputs": [
    {
     "data": {
      "image/png": "[encoded data removed]",
      "text/plain": [
       "<Figure size 640x480 with 1 Axes>"
      ]
     },
     "metadata": {},
     "output_type": "display_data"
    },
    {
     "name": "stdout",
     "output_type": "stream",
     "text": [
      "160227.36634253906\n"
     ]
    }
   ],
   "source": [
    "plt.plot(regular_train_loss)\n",
    "plt.title(\"Regular Train\")\n",
    "plt.xlabel(\"Epochs\")\n",
    "plt.ylabel(\"Average Loss \")\n",
    "plt.show()\n",
    "print(regular_train_loss[-1])"
   ]
  },
  {
   "cell_type": "code",
   "execution_count": 13,
   "metadata": {
    "tags": []
   },
   "outputs": [
    {
     "data": {
      "image/png": "[encoded data removed]",
      "text/plain": [
       "<Figure size 640x480 with 1 Axes>"
      ]
     },
     "metadata": {},
     "output_type": "display_data"
    },
    {
     "name": "stdout",
     "output_type": "stream",
     "text": [
      "166311.99363867685\n"
     ]
    }
   ],
   "source": [
    "plt.plot(regular_test_loss)\n",
    "plt.title(\"Regular Validation Data \")\n",
    "plt.xlabel(\"Epochs\")\n",
    "plt.ylabel(\"Average Loss \")\n",
    "plt.show()\n",
    "print(regular_test_loss[-1])"
   ]
  },
  {
   "cell_type": "raw",
   "metadata": {},
   "source": [
    "torch.save({\n",
    "    'epochs': 500,\n",
    "    'model_state_dict': RegularModel.state_dict(),\n",
    "    'train_loss': regular_train_loss,\n",
    "    'test_loss': regular_test_loss\n",
    "}, 'regular_model.pt')"
   ]
  },
  {
   "cell_type": "code",
   "execution_count": 14,
   "metadata": {
    "tags": []
   },
   "outputs": [],
   "source": [
    "torch.save({\n",
    "    'epochs': 500,\n",
    "    'model_state_dict': RegularModel.state_dict(),\n",
    "    'train_loss': regular_train_loss,\n",
    "    'test_loss': regular_test_loss\n",
    "}, 'regular_model.pt')"
   ]
  },
  {
   "cell_type": "markdown",
   "metadata": {},
   "source": [
    "## PCA and  Regular Neural Network  "
   ]
  },
  {
   "cell_type": "raw",
   "metadata": {},
   "source": [
    "d_train = data(pca=True, test=False)\n",
    "train_loader = torch.utils.data.DataLoader(dataset=d_train, batch_size=500)\n",
    "d_test = data(pca=True, test=True)\n",
    "test_loader = torch.utils.data.DataLoader(dataset=d_test)\n",
    "criterion = nn.SmoothL1Loss()\n",
    "PCAModel = BatchNormalizationNN()\n",
    "optimizer = torch.optim.Adadelta(PCAModel.parameters())\n",
    "pca_train_loss, pca_test_loss = train(train_loader, test_loader, criterion, PCAModel, optimizer, 60)"
   ]
  },
  {
   "cell_type": "code",
   "execution_count": 15,
   "metadata": {
    "tags": []
   },
   "outputs": [
    {
     "name": "stdout",
     "output_type": "stream",
     "text": [
      "0\n",
      "545066.0786581839\n",
      "548915.1903535594\n",
      "1\n",
      "545053.0599334876\n",
      "548870.4652440435\n",
      "2\n",
      "544812.6536292655\n",
      "548176.792311835\n",
      "3\n",
      "542132.9137145749\n",
      "541462.997495229\n",
      "4\n",
      "521397.5274725275\n",
      "494829.4007723947\n",
      "5\n",
      "402860.3455754772\n",
      "281255.6287661925\n",
      "6\n",
      "230485.98358877967\n",
      "223456.37648189915\n",
      "7\n",
      "212002.45580899366\n",
      "216172.9353313671\n",
      "8\n",
      "204026.628470214\n",
      "206467.29199919038\n",
      "9\n",
      "194907.4831007808\n",
      "196052.40137780475\n",
      "10\n",
      "184225.25891049742\n",
      "185124.6817675804\n",
      "11\n",
      "171802.65868999422\n",
      "170628.14251532502\n",
      "12\n",
      "157420.33034810584\n",
      "156899.40256332408\n",
      "13\n",
      "141791.76117878832\n",
      "140469.33363332754\n",
      "14\n",
      "126249.72324139677\n",
      "124279.90403438006\n",
      "15\n",
      "112631.40204778775\n",
      "113723.24546394286\n",
      "16\n",
      "102388.41635338347\n",
      "110228.0343330731\n",
      "17\n",
      "95256.41673293812\n",
      "101080.46460429678\n",
      "18\n",
      "90267.9359908184\n",
      "96057.0201429852\n",
      "19\n",
      "86951.46264097745\n",
      "95358.66087641683\n",
      "20\n",
      "84725.25800679583\n",
      "93399.35356317679\n",
      "21\n",
      "83295.79462478311\n",
      "92380.02007792621\n",
      "22\n",
      "82254.221641845\n",
      "91340.30359776197\n",
      "23\n",
      "81535.89909268364\n",
      "90505.68810159796\n",
      "24\n",
      "81001.33838201273\n",
      "89258.77480193153\n",
      "25\n",
      "80558.40962080682\n",
      "89136.27600913717\n",
      "26\n",
      "80223.68353275015\n",
      "89375.95595506593\n",
      "27\n",
      "79973.02789726721\n",
      "89208.10234140065\n",
      "28\n",
      "79752.68918992192\n",
      "89148.83507908281\n",
      "29\n",
      "79574.75396724985\n",
      "89215.6148074254\n",
      "30\n",
      "79433.8151568826\n",
      "88869.75622397641\n",
      "31\n",
      "79267.5498843262\n",
      "88704.87861077377\n",
      "32\n",
      "79155.00131036727\n",
      "88500.07449796148\n",
      "33\n",
      "79051.44004843841\n",
      "88470.85252392726\n",
      "34\n",
      "78934.52501445923\n",
      "88375.61046835242\n",
      "35\n",
      "78827.57735685368\n",
      "88499.09672464145\n",
      "36\n",
      "78719.9268453586\n",
      "88361.17902787417\n",
      "37\n",
      "78643.45290811163\n",
      "88023.12906799387\n",
      "38\n",
      "78543.93209586467\n",
      "88419.7289443818\n",
      "39\n",
      "78484.57155508966\n",
      "88252.07357087093\n",
      "40\n",
      "78378.52940644881\n",
      "88101.84032356003\n",
      "41\n",
      "78308.16178065357\n",
      "88088.62518614098\n",
      "42\n",
      "78208.3655653557\n",
      "88310.531985528\n",
      "43\n",
      "78138.62556029497\n",
      "87906.73564003585\n",
      "44\n",
      "78099.98915558126\n",
      "88043.75232585878\n",
      "45\n",
      "78005.09145459803\n",
      "88262.20365992945\n",
      "46\n",
      "77970.23930017352\n",
      "88000.08223094494\n",
      "47\n",
      "77890.47385591382\n",
      "88140.29035825815\n",
      "48\n",
      "77833.59126482072\n",
      "88370.73828938237\n",
      "49\n",
      "77772.78706080104\n",
      "88165.3753379453\n",
      "50\n",
      "77751.67004048583\n",
      "88234.32789187196\n",
      "51\n",
      "77682.04525737421\n",
      "88092.65664396831\n",
      "52\n",
      "77627.33380928282\n",
      "88495.45930921813\n",
      "53\n",
      "77581.13658545402\n",
      "88229.99060812533\n",
      "54\n",
      "77534.61018833141\n",
      "88305.86048461717\n",
      "55\n",
      "77472.62484637075\n",
      "88736.23053651978\n",
      "56\n",
      "77412.72569946501\n",
      "88399.01004438469\n",
      "57\n",
      "77385.37901243493\n",
      "88247.58755855309\n",
      "58\n",
      "77305.39182240458\n",
      "88295.45943391453\n",
      "59\n",
      "77244.62037756652\n",
      "88394.00335415221\n"
     ]
    }
   ],
   "source": [
    "d_train = data(pca=True, test=False) #PCA ACTIVATED\n",
    "train_loader = torch.utils.data.DataLoader(dataset=d_train, batch_size=500)\n",
    "d_test = data(pca=True, test=True)\n",
    "test_loader = torch.utils.data.DataLoader(dataset=d_test)\n",
    "criterion = nn.SmoothL1Loss()\n",
    "PCAModel = BatchNormalizationNN()\n",
    "optimizer = torch.optim.Adadelta(PCAModel.parameters())\n",
    "pca_train_loss, pca_test_loss = train(train_loader, test_loader, criterion, PCAModel, optimizer, 60)"
   ]
  },
  {
   "cell_type": "code",
   "execution_count": 16,
   "metadata": {
    "tags": []
   },
   "outputs": [
    {
     "data": {
      "image/png": "[encoded data removed]",
      "text/plain": [
       "<Figure size 640x480 with 1 Axes>"
      ]
     },
     "metadata": {},
     "output_type": "display_data"
    },
    {
     "name": "stdout",
     "output_type": "stream",
     "text": [
      "77244.62037756652\n"
     ]
    }
   ],
   "source": [
    "plt.plot(pca_train_loss)\n",
    "plt.title(\"PCA Train\")\n",
    "plt.xlabel(\"Epochs\")\n",
    "plt.ylabel(\"Average Loss\")\n",
    "plt.show()\n",
    "print(pca_train_loss[-1])"
   ]
  },
  {
   "cell_type": "code",
   "execution_count": 17,
   "metadata": {
    "tags": []
   },
   "outputs": [
    {
     "data": {
      "image/png": "[encoded data removed]",
      "text/plain": [
       "<Figure size 640x480 with 1 Axes>"
      ]
     },
     "metadata": {},
     "output_type": "display_data"
    },
    {
     "name": "stdout",
     "output_type": "stream",
     "text": [
      "88394.00335415221\n"
     ]
    }
   ],
   "source": [
    "plt.plot(pca_test_loss)\n",
    "plt.title(\"PCA Validation Data\")\n",
    "plt.xlabel(\"Epochs\")\n",
    "plt.ylabel(\"Average Loss\")\n",
    "plt.show()\n",
    "print(pca_test_loss[-1])"
   ]
  },
  {
   "cell_type": "raw",
   "metadata": {},
   "source": [
    "torch.save({\n",
    "    'epochs': 60,\n",
    "    'model_state_dict': PCAModel.state_dict(),\n",
    "    'train_loss': pca_train_loss,\n",
    "    'test_loss': pca_test_loss\n",
    "}, 'pca_model.pt')"
   ]
  },
  {
   "cell_type": "code",
   "execution_count": 18,
   "metadata": {
    "tags": []
   },
   "outputs": [],
   "source": [
    "torch.save({\n",
    "    'epochs': 60,\n",
    "    'model_state_dict': PCAModel.state_dict(),\n",
    "    'train_loss': pca_train_loss,\n",
    "    'test_loss': pca_test_loss\n",
    "}, 'pca_model.pt')"
   ]
  },
  {
   "cell_type": "markdown",
   "metadata": {},
   "source": [
    "## Standardized Data and Neural Network     "
   ]
  },
  {
   "cell_type": "raw",
   "metadata": {
    "jupyter": {
     "outputs_hidden": true
    }
   },
   "source": [
    "d_train = data(standard=True, test=False)\n",
    "train_loader = torch.utils.data.DataLoader(dataset=d_train, batch_size=500)\n",
    "d_test = data(standard=True, test=True)\n",
    "test_loader = torch.utils.data.DataLoader(dataset=d_test)\n",
    "criterion = nn.SmoothL1Loss()\n",
    "StandardModel = BatchNormalizationNN()\n",
    "optimizer = torch.optim.Adadelta(StandardModel.parameters())\n",
    "stan_train_loss, stan_test_loss = train(train_loader, test_loader, criterion, StandardModel, optimizer, 250)"
   ]
  },
  {
   "cell_type": "code",
   "execution_count": 19,
   "metadata": {
    "tags": []
   },
   "outputs": [
    {
     "name": "stdout",
     "output_type": "stream",
     "text": [
      "0\n",
      "545065.9566584731\n",
      "548913.7559709692\n",
      "1\n",
      "545025.3885916715\n",
      "548753.6838295888\n",
      "2\n",
      "543986.7761350492\n",
      "545555.5934572346\n",
      "3\n",
      "530445.114589358\n",
      "510277.2688490342\n",
      "4\n",
      "418865.903340081\n",
      "284121.8172637636\n",
      "5\n",
      "230532.27976792946\n",
      "225673.256592644\n",
      "6\n",
      "216005.0123807114\n",
      "222074.06906372888\n",
      "7\n",
      "211129.46021905728\n",
      "217624.4752848138\n",
      "8\n",
      "205471.35040124352\n",
      "212999.72782934306\n",
      "9\n",
      "198742.6962839792\n",
      "207552.23990862825\n",
      "10\n",
      "190535.88915196646\n",
      "200246.57309738608\n",
      "11\n",
      "180302.97995589938\n",
      "192019.88049387\n",
      "12\n",
      "167617.89238721805\n",
      "181892.8126228892\n",
      "13\n",
      "152405.38990203876\n",
      "170619.14826943094\n",
      "14\n",
      "135548.25020785138\n",
      "160850.77425977332\n",
      "15\n",
      "119909.29276315791\n",
      "154049.21486814713\n",
      "16\n",
      "107180.58939415848\n",
      "151322.64350566737\n",
      "17\n",
      "98029.88156991036\n",
      "151711.90963306732\n",
      "18\n",
      "91641.72683812898\n",
      "150389.35030650013\n",
      "19\n",
      "87944.34892820995\n",
      "149776.17259787762\n"
     ]
    }
   ],
   "source": [
    "_train = data(standard=True, test=False)\n",
    "train_loader = torch.utils.data.DataLoader(dataset=d_train, batch_size=500)\n",
    "d_test = data(standard=True, test=True)\n",
    "test_loader = torch.utils.data.DataLoader(dataset=d_test)\n",
    "criterion = nn.SmoothL1Loss()\n",
    "StandardModel = BatchNormalizationNN()\n",
    "optimizer = torch.optim.Adadelta(StandardModel.parameters())\n",
    "stan_train_loss, stan_test_loss = train(train_loader, test_loader, criterion, StandardModel, optimizer, 20)"
   ]
  },
  {
   "cell_type": "code",
   "execution_count": 20,
   "metadata": {
    "tags": []
   },
   "outputs": [
    {
     "data": {
      "image/png": "[encoded data removed]",
      "text/plain": [
       "<Figure size 640x480 with 1 Axes>"
      ]
     },
     "metadata": {},
     "output_type": "display_data"
    },
    {
     "name": "stdout",
     "output_type": "stream",
     "text": [
      "87944.34892820995\n"
     ]
    }
   ],
   "source": [
    "plt.plot(stan_train_loss)\n",
    "plt.title(\"Standardization Train\")\n",
    "plt.xlabel(\"Epochs\")\n",
    "plt.ylabel(\"Average Loss\")\n",
    "plt.show()\n",
    "print(stan_train_loss[-1])"
   ]
  },
  {
   "cell_type": "code",
   "execution_count": 21,
   "metadata": {
    "tags": []
   },
   "outputs": [
    {
     "data": {
      "image/png": "[encoded data removed]",
      "text/plain": [
       "<Figure size 640x480 with 1 Axes>"
      ]
     },
     "metadata": {},
     "output_type": "display_data"
    },
    {
     "name": "stdout",
     "output_type": "stream",
     "text": [
      "149776.17259787762\n"
     ]
    }
   ],
   "source": [
    "plt.plot(stan_test_loss)\n",
    "plt.title(\"Standardization Validation Data \")\n",
    "plt.xlabel(\"Epochs\")\n",
    "plt.ylabel(\"Average Loss\")\n",
    "plt.show()\n",
    "print(stan_test_loss[-1])"
   ]
  },
  {
   "cell_type": "raw",
   "metadata": {},
   "source": [
    "torch.save({\n",
    "    'epochs': 250,\n",
    "    'model_state_dict': StandardModel.state_dict(),\n",
    "    'train_loss': stan_train_loss,\n",
    "    'test_loss': stan_test_loss\n",
    "}, 'standardized_model.pt')"
   ]
  },
  {
   "cell_type": "markdown",
   "metadata": {},
   "source": [
    "## Viewing the Results"
   ]
  },
  {
   "cell_type": "markdown",
   "metadata": {},
   "source": [
    "The code below will allow you to see the predicted price, actual price, and error for each house in the test dataset.We will use the absolute Loss."
   ]
  },
  {
   "cell_type": "code",
   "execution_count": 22,
   "metadata": {
    "tags": []
   },
   "outputs": [],
   "source": [
    "criterion = nn.SmoothL1Loss()\n",
    "limit = 9"
   ]
  },
  {
   "cell_type": "code",
   "execution_count": 23,
   "metadata": {
    "tags": []
   },
   "outputs": [
    {
     "name": "stdout",
     "output_type": "stream",
     "text": [
      "0\n",
      "Predicted:  712981.0\n",
      "Actual:  459000.0\n",
      "Loss:  253980.5\n",
      "1\n",
      "Predicted:  405973.4375\n",
      "Actual:  445000.0\n",
      "Loss:  39026.0625\n",
      "2\n",
      "Predicted:  646139.0\n",
      "Actual:  1057000.0\n",
      "Loss:  410860.5\n",
      "3\n",
      "Predicted:  562974.9375\n",
      "Actual:  732350.0\n",
      "Loss:  169374.5625\n",
      "4\n",
      "Predicted:  349270.28125\n",
      "Actual:  235000.0\n",
      "Loss:  114269.78125\n",
      "5\n",
      "Predicted:  531688.1875\n",
      "Actual:  555000.0\n",
      "Loss:  23311.3125\n",
      "6\n",
      "Predicted:  664266.1875\n",
      "Actual:  365000.0\n",
      "Loss:  299265.6875\n",
      "7\n",
      "Predicted:  927529.0625\n",
      "Actual:  685000.0\n",
      "Loss:  242528.5625\n",
      "8\n",
      "Predicted:  407059.125\n",
      "Actual:  525000.0\n",
      "Loss:  117940.375\n",
      "9\n",
      "Predicted:  515306.40625\n",
      "Actual:  449950.0\n",
      "Loss:  65355.90625\n"
     ]
    }
   ],
   "source": [
    "d_test = data(regular=True, test=True)\n",
    "test_loader = torch.utils.data.DataLoader(dataset=d_test)\n",
    "\n",
    "for i, (x, y) in enumerate(test_loader):\n",
    "    RegularModel.eval()\n",
    "    z = RegularModel(x)\n",
    "    loss = criterion(z, y)\n",
    "    print(i)\n",
    "    print('Predicted: ',z.item())\n",
    "    print('Actual: ', y.item())\n",
    "    print('Loss: ', loss.item())\n",
    "    if (i == limit):\n",
    "        break"
   ]
  },
  {
   "cell_type": "code",
   "execution_count": 24,
   "metadata": {
    "tags": []
   },
   "outputs": [
    {
     "name": "stdout",
     "output_type": "stream",
     "text": [
      "0\n",
      "Predicted:  475038.5625\n",
      "Actual:  459000.0\n",
      "Loss:  16038.0625\n",
      "1\n",
      "Predicted:  449764.4375\n",
      "Actual:  445000.0\n",
      "Loss:  4763.9375\n",
      "2\n",
      "Predicted:  598215.1875\n",
      "Actual:  1057000.0\n",
      "Loss:  458784.3125\n",
      "3\n",
      "Predicted:  771003.9375\n",
      "Actual:  732350.0\n",
      "Loss:  38653.4375\n",
      "4\n",
      "Predicted:  225825.859375\n",
      "Actual:  235000.0\n",
      "Loss:  9173.640625\n",
      "5\n",
      "Predicted:  666851.0\n",
      "Actual:  555000.0\n",
      "Loss:  111850.5\n",
      "6\n",
      "Predicted:  372953.4375\n",
      "Actual:  365000.0\n",
      "Loss:  7952.9375\n",
      "7\n",
      "Predicted:  688262.75\n",
      "Actual:  685000.0\n",
      "Loss:  3262.25\n",
      "8\n",
      "Predicted:  520498.59375\n",
      "Actual:  525000.0\n",
      "Loss:  4500.90625\n",
      "9\n",
      "Predicted:  486147.28125\n",
      "Actual:  449950.0\n",
      "Loss:  36196.78125\n"
     ]
    }
   ],
   "source": [
    "d_test = data(pca=True, test=True)\n",
    "test_loader = torch.utils.data.DataLoader(dataset=d_test)\n",
    "\n",
    "for i, (x, y) in enumerate(test_loader):\n",
    "    PCAModel.eval()\n",
    "    z = PCAModel(x)\n",
    "    loss = criterion(z, y)\n",
    "    print(i)\n",
    "    print('Predicted: ',z.item())\n",
    "    print('Actual: ', y.item())\n",
    "    print('Loss: ', loss.item())\n",
    "    if (i == limit):\n",
    "        break"
   ]
  },
  {
   "cell_type": "code",
   "execution_count": 25,
   "metadata": {
    "tags": []
   },
   "outputs": [
    {
     "name": "stdout",
     "output_type": "stream",
     "text": [
      "0\n",
      "Predicted:  481212.09375\n",
      "Actual:  459000.0\n",
      "Loss:  22211.59375\n",
      "1\n",
      "Predicted:  415925.46875\n",
      "Actual:  445000.0\n",
      "Loss:  29074.03125\n",
      "2\n",
      "Predicted:  358657.59375\n",
      "Actual:  1057000.0\n",
      "Loss:  698341.875\n",
      "3\n",
      "Predicted:  657842.75\n",
      "Actual:  732350.0\n",
      "Loss:  74506.75\n",
      "4\n",
      "Predicted:  317061.96875\n",
      "Actual:  235000.0\n",
      "Loss:  82061.46875\n",
      "5\n",
      "Predicted:  576521.4375\n",
      "Actual:  555000.0\n",
      "Loss:  21520.9375\n",
      "6\n",
      "Predicted:  377249.75\n",
      "Actual:  365000.0\n",
      "Loss:  12249.25\n",
      "7\n",
      "Predicted:  785067.25\n",
      "Actual:  685000.0\n",
      "Loss:  100066.75\n",
      "8\n",
      "Predicted:  551115.0625\n",
      "Actual:  525000.0\n",
      "Loss:  26114.5625\n",
      "9\n",
      "Predicted:  477560.125\n",
      "Actual:  449950.0\n",
      "Loss:  27609.625\n"
     ]
    }
   ],
   "source": [
    "d_test = data(standard=True, test=True)\n",
    "test_loader = torch.utils.data.DataLoader(dataset=d_test)\n",
    "\n",
    "for i, (x, y) in enumerate(test_loader):\n",
    "    StandardModel.eval()\n",
    "    z = StandardModel(x)\n",
    "    loss = criterion(z, y)\n",
    "    print(i)\n",
    "    print('Predicted: ',z.item())\n",
    "    print('Actual: ', y.item())\n",
    "    print('Loss: ', loss.item())\n",
    "    if (i == limit):\n",
    "        break"
   ]
  },
  {
   "cell_type": "markdown",
   "metadata": {},
   "source": [
    "<h2>About the Authors:</h2> \n",
    "<p><a>Azim Hirjani</a></p>\n",
    "<p><a href=\"https://www.linkedin.com/in/joseph-s-50398b136/\">Joseph Santarcangelo</a> has a PhD in Electrical Engineering, his research focused on using machine learning, signal processing, and computer vision to determine how videos impact human cognition. Joseph has been working for IBM since he completed his PhD.</p>"
   ]
  },
  {
   "cell_type": "markdown",
   "metadata": {},
   "source": [
    "Copyright &copy; 2020 <a href=\"cognitiveclass.ai?utm_source=bducopyrightlink&utm_medium=dswb&utm_campaign=bdu\">cognitiveclass.ai</a>. This notebook and its source code are released under the terms of the <a href=\"https://bigdatauniversity.com/mit-license/\">MIT License</a>."
   ]
  }
 ],
 "metadata": {
  "kernelspec": {
   "display_name": "Python",
   "language": "python",
   "name": "conda-env-python-py"
  },
  "language_info": {
   "codemirror_mode": {
    "name": "ipython",
    "version": 3
   },
   "file_extension": ".py",
   "mimetype": "text/x-python",
   "name": "python",
   "nbconvert_exporter": "python",
   "pygments_lexer": "ipython3",
   "version": "3.7.12"
  }
 },
 "nbformat": 4,
 "nbformat_minor": 4
}
